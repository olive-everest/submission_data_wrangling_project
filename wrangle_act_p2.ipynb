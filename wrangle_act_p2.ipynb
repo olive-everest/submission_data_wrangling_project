{
 "cells": [
  {
   "cell_type": "markdown",
   "metadata": {},
   "source": [
    "# wrangle_act_p2  - contd cleaning "
   ]
  },
  {
   "cell_type": "code",
   "execution_count": 2,
   "metadata": {
    "scrolled": true
   },
   "outputs": [],
   "source": [
    "#import packages\n",
    "import pandas as pd\n",
    "import numpy as np\n",
    "import os\n",
    "import seaborn as sns\n",
    "import matplotlib.pyplot as plt\n"
   ]
  },
  {
   "cell_type": "code",
   "execution_count": 3,
   "metadata": {
    "scrolled": true
   },
   "outputs": [],
   "source": [
    "#define working dir\n",
    "#os.chdir('C:/Users/gk-km/Documents/project')"
   ]
  },
  {
   "cell_type": "code",
   "execution_count": 4,
   "metadata": {
    "scrolled": true
   },
   "outputs": [],
   "source": [
    "#load data\n",
    "tempdf_final = pd.read_csv('tempdf_final')"
   ]
  },
  {
   "cell_type": "code",
   "execution_count": 5,
   "metadata": {
    "scrolled": true
   },
   "outputs": [
    {
     "data": {
      "text/html": [
       "<div>\n",
       "<style>\n",
       "    .dataframe thead tr:only-child th {\n",
       "        text-align: right;\n",
       "    }\n",
       "\n",
       "    .dataframe thead th {\n",
       "        text-align: left;\n",
       "    }\n",
       "\n",
       "    .dataframe tbody tr th {\n",
       "        vertical-align: top;\n",
       "    }\n",
       "</style>\n",
       "<table border=\"1\" class=\"dataframe\">\n",
       "  <thead>\n",
       "    <tr style=\"text-align: right;\">\n",
       "      <th></th>\n",
       "      <th>tweet_id</th>\n",
       "      <th>timestamp</th>\n",
       "      <th>numerator</th>\n",
       "      <th>denominator</th>\n",
       "      <th>name</th>\n",
       "      <th>doggo</th>\n",
       "      <th>floofer</th>\n",
       "      <th>pupper</th>\n",
       "      <th>puppo</th>\n",
       "      <th>jpg_url</th>\n",
       "      <th>...</th>\n",
       "      <th>p1_dog</th>\n",
       "      <th>p2</th>\n",
       "      <th>p2_conf</th>\n",
       "      <th>p2_dog</th>\n",
       "      <th>p3</th>\n",
       "      <th>p3_conf</th>\n",
       "      <th>p3_dog</th>\n",
       "      <th>favorite_count</th>\n",
       "      <th>full_text</th>\n",
       "      <th>retweet_count</th>\n",
       "    </tr>\n",
       "  </thead>\n",
       "  <tbody>\n",
       "    <tr>\n",
       "      <th>0</th>\n",
       "      <td>892420643555336193</td>\n",
       "      <td>2017-08-01</td>\n",
       "      <td>13</td>\n",
       "      <td>10</td>\n",
       "      <td>Phineas</td>\n",
       "      <td>None</td>\n",
       "      <td>None</td>\n",
       "      <td>None</td>\n",
       "      <td>None</td>\n",
       "      <td>https://pbs.twimg.com/media/DGKD1-bXoAAIAUK.jpg</td>\n",
       "      <td>...</td>\n",
       "      <td>False</td>\n",
       "      <td>bagel</td>\n",
       "      <td>0.085851</td>\n",
       "      <td>False</td>\n",
       "      <td>banana</td>\n",
       "      <td>0.076110</td>\n",
       "      <td>False</td>\n",
       "      <td>38150</td>\n",
       "      <td>This is Phineas. He's a mystical boy. Only eve...</td>\n",
       "      <td>8346</td>\n",
       "    </tr>\n",
       "    <tr>\n",
       "      <th>1</th>\n",
       "      <td>892177421306343426</td>\n",
       "      <td>2017-08-01</td>\n",
       "      <td>13</td>\n",
       "      <td>10</td>\n",
       "      <td>Tilly</td>\n",
       "      <td>None</td>\n",
       "      <td>None</td>\n",
       "      <td>None</td>\n",
       "      <td>None</td>\n",
       "      <td>https://pbs.twimg.com/media/DGGmoV4XsAAUL6n.jpg</td>\n",
       "      <td>...</td>\n",
       "      <td>True</td>\n",
       "      <td>Pekinese</td>\n",
       "      <td>0.090647</td>\n",
       "      <td>True</td>\n",
       "      <td>papillon</td>\n",
       "      <td>0.068957</td>\n",
       "      <td>True</td>\n",
       "      <td>32718</td>\n",
       "      <td>This is Tilly. She's just checking pup on you....</td>\n",
       "      <td>6171</td>\n",
       "    </tr>\n",
       "    <tr>\n",
       "      <th>2</th>\n",
       "      <td>891815181378084864</td>\n",
       "      <td>2017-07-31</td>\n",
       "      <td>12</td>\n",
       "      <td>10</td>\n",
       "      <td>Archie</td>\n",
       "      <td>None</td>\n",
       "      <td>None</td>\n",
       "      <td>None</td>\n",
       "      <td>None</td>\n",
       "      <td>https://pbs.twimg.com/media/DGBdLU1WsAANxJ9.jpg</td>\n",
       "      <td>...</td>\n",
       "      <td>True</td>\n",
       "      <td>malamute</td>\n",
       "      <td>0.078253</td>\n",
       "      <td>True</td>\n",
       "      <td>kelpie</td>\n",
       "      <td>0.031379</td>\n",
       "      <td>True</td>\n",
       "      <td>24636</td>\n",
       "      <td>This is Archie. He is a rare Norwegian Pouncin...</td>\n",
       "      <td>4081</td>\n",
       "    </tr>\n",
       "    <tr>\n",
       "      <th>3</th>\n",
       "      <td>891689557279858688</td>\n",
       "      <td>2017-07-30</td>\n",
       "      <td>13</td>\n",
       "      <td>10</td>\n",
       "      <td>Darla</td>\n",
       "      <td>None</td>\n",
       "      <td>None</td>\n",
       "      <td>None</td>\n",
       "      <td>None</td>\n",
       "      <td>https://pbs.twimg.com/media/DF_q7IAWsAEuuN8.jpg</td>\n",
       "      <td>...</td>\n",
       "      <td>False</td>\n",
       "      <td>Labrador_retriever</td>\n",
       "      <td>0.168086</td>\n",
       "      <td>True</td>\n",
       "      <td>spatula</td>\n",
       "      <td>0.040836</td>\n",
       "      <td>False</td>\n",
       "      <td>41486</td>\n",
       "      <td>This is Darla. She commenced a snooze mid meal...</td>\n",
       "      <td>8490</td>\n",
       "    </tr>\n",
       "    <tr>\n",
       "      <th>4</th>\n",
       "      <td>891327558926688256</td>\n",
       "      <td>2017-07-29</td>\n",
       "      <td>12</td>\n",
       "      <td>10</td>\n",
       "      <td>Franklin</td>\n",
       "      <td>None</td>\n",
       "      <td>None</td>\n",
       "      <td>None</td>\n",
       "      <td>None</td>\n",
       "      <td>https://pbs.twimg.com/media/DF6hr6BUMAAzZgT.jpg</td>\n",
       "      <td>...</td>\n",
       "      <td>True</td>\n",
       "      <td>English_springer</td>\n",
       "      <td>0.225770</td>\n",
       "      <td>True</td>\n",
       "      <td>German_short-haired_pointer</td>\n",
       "      <td>0.175219</td>\n",
       "      <td>True</td>\n",
       "      <td>39665</td>\n",
       "      <td>This is Franklin. He would like you to stop ca...</td>\n",
       "      <td>9183</td>\n",
       "    </tr>\n",
       "  </tbody>\n",
       "</table>\n",
       "<p>5 rows × 22 columns</p>\n",
       "</div>"
      ],
      "text/plain": [
       "             tweet_id   timestamp  numerator  denominator      name doggo  \\\n",
       "0  892420643555336193  2017-08-01         13           10   Phineas  None   \n",
       "1  892177421306343426  2017-08-01         13           10     Tilly  None   \n",
       "2  891815181378084864  2017-07-31         12           10    Archie  None   \n",
       "3  891689557279858688  2017-07-30         13           10     Darla  None   \n",
       "4  891327558926688256  2017-07-29         12           10  Franklin  None   \n",
       "\n",
       "  floofer pupper puppo                                          jpg_url  \\\n",
       "0    None   None  None  https://pbs.twimg.com/media/DGKD1-bXoAAIAUK.jpg   \n",
       "1    None   None  None  https://pbs.twimg.com/media/DGGmoV4XsAAUL6n.jpg   \n",
       "2    None   None  None  https://pbs.twimg.com/media/DGBdLU1WsAANxJ9.jpg   \n",
       "3    None   None  None  https://pbs.twimg.com/media/DF_q7IAWsAEuuN8.jpg   \n",
       "4    None   None  None  https://pbs.twimg.com/media/DF6hr6BUMAAzZgT.jpg   \n",
       "\n",
       "       ...       p1_dog                  p2   p2_conf p2_dog  \\\n",
       "0      ...        False               bagel  0.085851  False   \n",
       "1      ...         True            Pekinese  0.090647   True   \n",
       "2      ...         True            malamute  0.078253   True   \n",
       "3      ...        False  Labrador_retriever  0.168086   True   \n",
       "4      ...         True    English_springer  0.225770   True   \n",
       "\n",
       "                            p3   p3_conf p3_dog  favorite_count  \\\n",
       "0                       banana  0.076110  False           38150   \n",
       "1                     papillon  0.068957   True           32718   \n",
       "2                       kelpie  0.031379   True           24636   \n",
       "3                      spatula  0.040836  False           41486   \n",
       "4  German_short-haired_pointer  0.175219   True           39665   \n",
       "\n",
       "                                           full_text  retweet_count  \n",
       "0  This is Phineas. He's a mystical boy. Only eve...           8346  \n",
       "1  This is Tilly. She's just checking pup on you....           6171  \n",
       "2  This is Archie. He is a rare Norwegian Pouncin...           4081  \n",
       "3  This is Darla. She commenced a snooze mid meal...           8490  \n",
       "4  This is Franklin. He would like you to stop ca...           9183  \n",
       "\n",
       "[5 rows x 22 columns]"
      ]
     },
     "execution_count": 5,
     "metadata": {},
     "output_type": "execute_result"
    }
   ],
   "source": [
    "# inspect it\n",
    "tempdf_final.head()"
   ]
  },
  {
   "cell_type": "markdown",
   "metadata": {},
   "source": [
    "#### Define\n",
    "continue to clean the data by tidying it up with the melt function\n",
    "added subdataframes together to create the full melt result while dropping the duplicated columns\n",
    "and testing"
   ]
  },
  {
   "cell_type": "code",
   "execution_count": 6,
   "metadata": {
    "scrolled": false
   },
   "outputs": [
    {
     "data": {
      "text/html": [
       "<div>\n",
       "<style>\n",
       "    .dataframe thead tr:only-child th {\n",
       "        text-align: right;\n",
       "    }\n",
       "\n",
       "    .dataframe thead th {\n",
       "        text-align: left;\n",
       "    }\n",
       "\n",
       "    .dataframe tbody tr th {\n",
       "        vertical-align: top;\n",
       "    }\n",
       "</style>\n",
       "<table border=\"1\" class=\"dataframe\">\n",
       "  <thead>\n",
       "    <tr style=\"text-align: right;\">\n",
       "      <th></th>\n",
       "      <th>tweet_id</th>\n",
       "      <th>timestamp</th>\n",
       "      <th>favorite_count</th>\n",
       "      <th>retweet_count</th>\n",
       "      <th>numerator</th>\n",
       "      <th>denominator</th>\n",
       "      <th>stage</th>\n",
       "      <th>stage_name</th>\n",
       "    </tr>\n",
       "  </thead>\n",
       "  <tbody>\n",
       "    <tr>\n",
       "      <th>0</th>\n",
       "      <td>892420643555336193</td>\n",
       "      <td>2017-08-01</td>\n",
       "      <td>38150</td>\n",
       "      <td>8346</td>\n",
       "      <td>13</td>\n",
       "      <td>10</td>\n",
       "      <td>doggo</td>\n",
       "      <td>None</td>\n",
       "    </tr>\n",
       "    <tr>\n",
       "      <th>1</th>\n",
       "      <td>892177421306343426</td>\n",
       "      <td>2017-08-01</td>\n",
       "      <td>32718</td>\n",
       "      <td>6171</td>\n",
       "      <td>13</td>\n",
       "      <td>10</td>\n",
       "      <td>doggo</td>\n",
       "      <td>None</td>\n",
       "    </tr>\n",
       "  </tbody>\n",
       "</table>\n",
       "</div>"
      ],
      "text/plain": [
       "             tweet_id   timestamp  favorite_count  retweet_count  numerator  \\\n",
       "0  892420643555336193  2017-08-01           38150           8346         13   \n",
       "1  892177421306343426  2017-08-01           32718           6171         13   \n",
       "\n",
       "   denominator  stage stage_name  \n",
       "0           10  doggo       None  \n",
       "1           10  doggo       None  "
      ]
     },
     "execution_count": 6,
     "metadata": {},
     "output_type": "execute_result"
    }
   ],
   "source": [
    "#code \n",
    "df1 = tempdf_final.melt(id_vars=['tweet_id', 'timestamp', 'favorite_count', 'retweet_count' , 'numerator', 'denominator'], \n",
    "              value_vars=['doggo', 'floofer', 'pupper', 'puppo'], var_name='stage', value_name = 'stage_name')\n",
    "df1.head(2)"
   ]
  },
  {
   "cell_type": "code",
   "execution_count": 7,
   "metadata": {
    "scrolled": true
   },
   "outputs": [
    {
     "data": {
      "text/html": [
       "<div>\n",
       "<style>\n",
       "    .dataframe thead tr:only-child th {\n",
       "        text-align: right;\n",
       "    }\n",
       "\n",
       "    .dataframe thead th {\n",
       "        text-align: left;\n",
       "    }\n",
       "\n",
       "    .dataframe tbody tr th {\n",
       "        vertical-align: top;\n",
       "    }\n",
       "</style>\n",
       "<table border=\"1\" class=\"dataframe\">\n",
       "  <thead>\n",
       "    <tr style=\"text-align: right;\">\n",
       "      <th></th>\n",
       "      <th>tweet_id</th>\n",
       "      <th>timestamp</th>\n",
       "      <th>favorite_count</th>\n",
       "      <th>retweet_count</th>\n",
       "      <th>numerator</th>\n",
       "      <th>denominator</th>\n",
       "      <th>prediction_level</th>\n",
       "      <th>prediction_value</th>\n",
       "    </tr>\n",
       "  </thead>\n",
       "  <tbody>\n",
       "    <tr>\n",
       "      <th>0</th>\n",
       "      <td>892420643555336193</td>\n",
       "      <td>2017-08-01</td>\n",
       "      <td>38150</td>\n",
       "      <td>8346</td>\n",
       "      <td>13</td>\n",
       "      <td>10</td>\n",
       "      <td>p1</td>\n",
       "      <td>orange</td>\n",
       "    </tr>\n",
       "    <tr>\n",
       "      <th>1</th>\n",
       "      <td>892177421306343426</td>\n",
       "      <td>2017-08-01</td>\n",
       "      <td>32718</td>\n",
       "      <td>6171</td>\n",
       "      <td>13</td>\n",
       "      <td>10</td>\n",
       "      <td>p1</td>\n",
       "      <td>Chihuahua</td>\n",
       "    </tr>\n",
       "  </tbody>\n",
       "</table>\n",
       "</div>"
      ],
      "text/plain": [
       "             tweet_id   timestamp  favorite_count  retweet_count  numerator  \\\n",
       "0  892420643555336193  2017-08-01           38150           8346         13   \n",
       "1  892177421306343426  2017-08-01           32718           6171         13   \n",
       "\n",
       "   denominator prediction_level prediction_value  \n",
       "0           10               p1           orange  \n",
       "1           10               p1        Chihuahua  "
      ]
     },
     "execution_count": 7,
     "metadata": {},
     "output_type": "execute_result"
    }
   ],
   "source": [
    "df2 = tempdf_final.melt(id_vars=['tweet_id','timestamp', 'favorite_count', 'retweet_count' , 'numerator', 'denominator'], \n",
    "              value_vars=['p1', 'p2', 'p3'], var_name='prediction_level', value_name = 'prediction_value')\n",
    "df2.head(2)"
   ]
  },
  {
   "cell_type": "code",
   "execution_count": 8,
   "metadata": {
    "scrolled": true
   },
   "outputs": [
    {
     "data": {
      "text/html": [
       "<div>\n",
       "<style>\n",
       "    .dataframe thead tr:only-child th {\n",
       "        text-align: right;\n",
       "    }\n",
       "\n",
       "    .dataframe thead th {\n",
       "        text-align: left;\n",
       "    }\n",
       "\n",
       "    .dataframe tbody tr th {\n",
       "        vertical-align: top;\n",
       "    }\n",
       "</style>\n",
       "<table border=\"1\" class=\"dataframe\">\n",
       "  <thead>\n",
       "    <tr style=\"text-align: right;\">\n",
       "      <th></th>\n",
       "      <th>tweet_id</th>\n",
       "      <th>timestamp</th>\n",
       "      <th>favorite_count</th>\n",
       "      <th>retweet_count</th>\n",
       "      <th>numerator</th>\n",
       "      <th>denominator</th>\n",
       "      <th>confidence_level</th>\n",
       "      <th>confidence_value</th>\n",
       "    </tr>\n",
       "  </thead>\n",
       "  <tbody>\n",
       "    <tr>\n",
       "      <th>0</th>\n",
       "      <td>892420643555336193</td>\n",
       "      <td>2017-08-01</td>\n",
       "      <td>38150</td>\n",
       "      <td>8346</td>\n",
       "      <td>13</td>\n",
       "      <td>10</td>\n",
       "      <td>p1_conf</td>\n",
       "      <td>0.097049</td>\n",
       "    </tr>\n",
       "    <tr>\n",
       "      <th>1</th>\n",
       "      <td>892177421306343426</td>\n",
       "      <td>2017-08-01</td>\n",
       "      <td>32718</td>\n",
       "      <td>6171</td>\n",
       "      <td>13</td>\n",
       "      <td>10</td>\n",
       "      <td>p1_conf</td>\n",
       "      <td>0.323581</td>\n",
       "    </tr>\n",
       "  </tbody>\n",
       "</table>\n",
       "</div>"
      ],
      "text/plain": [
       "             tweet_id   timestamp  favorite_count  retweet_count  numerator  \\\n",
       "0  892420643555336193  2017-08-01           38150           8346         13   \n",
       "1  892177421306343426  2017-08-01           32718           6171         13   \n",
       "\n",
       "   denominator confidence_level  confidence_value  \n",
       "0           10          p1_conf          0.097049  \n",
       "1           10          p1_conf          0.323581  "
      ]
     },
     "execution_count": 8,
     "metadata": {},
     "output_type": "execute_result"
    }
   ],
   "source": [
    "df3 = tempdf_final.melt(id_vars=['tweet_id', 'timestamp', 'favorite_count', 'retweet_count' , 'numerator', 'denominator'], \n",
    "              value_vars=['p1_conf', 'p2_conf','p3_conf'], var_name='confidence_level', value_name = 'confidence_value')\n",
    "df3.head(2)"
   ]
  },
  {
   "cell_type": "code",
   "execution_count": 9,
   "metadata": {
    "scrolled": true
   },
   "outputs": [
    {
     "data": {
      "text/html": [
       "<div>\n",
       "<style>\n",
       "    .dataframe thead tr:only-child th {\n",
       "        text-align: right;\n",
       "    }\n",
       "\n",
       "    .dataframe thead th {\n",
       "        text-align: left;\n",
       "    }\n",
       "\n",
       "    .dataframe tbody tr th {\n",
       "        vertical-align: top;\n",
       "    }\n",
       "</style>\n",
       "<table border=\"1\" class=\"dataframe\">\n",
       "  <thead>\n",
       "    <tr style=\"text-align: right;\">\n",
       "      <th></th>\n",
       "      <th>tweet_id</th>\n",
       "      <th>timestamp</th>\n",
       "      <th>favorite_count</th>\n",
       "      <th>retweet_count</th>\n",
       "      <th>numerator</th>\n",
       "      <th>denominator</th>\n",
       "      <th>is_breed</th>\n",
       "      <th>dog_value</th>\n",
       "    </tr>\n",
       "  </thead>\n",
       "  <tbody>\n",
       "    <tr>\n",
       "      <th>0</th>\n",
       "      <td>892420643555336193</td>\n",
       "      <td>2017-08-01</td>\n",
       "      <td>38150</td>\n",
       "      <td>8346</td>\n",
       "      <td>13</td>\n",
       "      <td>10</td>\n",
       "      <td>p1_dog</td>\n",
       "      <td>False</td>\n",
       "    </tr>\n",
       "    <tr>\n",
       "      <th>1</th>\n",
       "      <td>892177421306343426</td>\n",
       "      <td>2017-08-01</td>\n",
       "      <td>32718</td>\n",
       "      <td>6171</td>\n",
       "      <td>13</td>\n",
       "      <td>10</td>\n",
       "      <td>p1_dog</td>\n",
       "      <td>True</td>\n",
       "    </tr>\n",
       "  </tbody>\n",
       "</table>\n",
       "</div>"
      ],
      "text/plain": [
       "             tweet_id   timestamp  favorite_count  retweet_count  numerator  \\\n",
       "0  892420643555336193  2017-08-01           38150           8346         13   \n",
       "1  892177421306343426  2017-08-01           32718           6171         13   \n",
       "\n",
       "   denominator is_breed  dog_value  \n",
       "0           10   p1_dog      False  \n",
       "1           10   p1_dog       True  "
      ]
     },
     "execution_count": 9,
     "metadata": {},
     "output_type": "execute_result"
    }
   ],
   "source": [
    "df4 = tempdf_final.melt(id_vars=['tweet_id', 'timestamp', 'favorite_count', 'retweet_count' , 'numerator', 'denominator'], \n",
    "              value_vars=['p1_dog', 'p2_dog', 'p3_dog'], var_name='is_breed', value_name = 'dog_value')\n",
    "df4.head(2)"
   ]
  },
  {
   "cell_type": "code",
   "execution_count": 10,
   "metadata": {
    "scrolled": true
   },
   "outputs": [
    {
     "data": {
      "text/html": [
       "<div>\n",
       "<style>\n",
       "    .dataframe thead tr:only-child th {\n",
       "        text-align: right;\n",
       "    }\n",
       "\n",
       "    .dataframe thead th {\n",
       "        text-align: left;\n",
       "    }\n",
       "\n",
       "    .dataframe tbody tr th {\n",
       "        vertical-align: top;\n",
       "    }\n",
       "</style>\n",
       "<table border=\"1\" class=\"dataframe\">\n",
       "  <thead>\n",
       "    <tr style=\"text-align: right;\">\n",
       "      <th></th>\n",
       "      <th>tweet_id</th>\n",
       "      <th>timestamp_</th>\n",
       "      <th>favorite_count_</th>\n",
       "      <th>retweet_count_</th>\n",
       "      <th>numerator_</th>\n",
       "      <th>denominator_</th>\n",
       "      <th>stage</th>\n",
       "      <th>stage_name</th>\n",
       "      <th>prediction_level</th>\n",
       "      <th>prediction_value</th>\n",
       "    </tr>\n",
       "  </thead>\n",
       "  <tbody>\n",
       "    <tr>\n",
       "      <th>0</th>\n",
       "      <td>892420643555336193</td>\n",
       "      <td>2017-08-01</td>\n",
       "      <td>38150</td>\n",
       "      <td>8346</td>\n",
       "      <td>13</td>\n",
       "      <td>10</td>\n",
       "      <td>doggo</td>\n",
       "      <td>None</td>\n",
       "      <td>p1</td>\n",
       "      <td>orange</td>\n",
       "    </tr>\n",
       "    <tr>\n",
       "      <th>1</th>\n",
       "      <td>892420643555336193</td>\n",
       "      <td>2017-08-01</td>\n",
       "      <td>38150</td>\n",
       "      <td>8346</td>\n",
       "      <td>13</td>\n",
       "      <td>10</td>\n",
       "      <td>doggo</td>\n",
       "      <td>None</td>\n",
       "      <td>p2</td>\n",
       "      <td>bagel</td>\n",
       "    </tr>\n",
       "  </tbody>\n",
       "</table>\n",
       "</div>"
      ],
      "text/plain": [
       "             tweet_id  timestamp_  favorite_count_  retweet_count_  \\\n",
       "0  892420643555336193  2017-08-01            38150            8346   \n",
       "1  892420643555336193  2017-08-01            38150            8346   \n",
       "\n",
       "   numerator_  denominator_  stage stage_name prediction_level  \\\n",
       "0          13            10  doggo       None               p1   \n",
       "1          13            10  doggo       None               p2   \n",
       "\n",
       "  prediction_value  \n",
       "0           orange  \n",
       "1            bagel  "
      ]
     },
     "execution_count": 10,
     "metadata": {},
     "output_type": "execute_result"
    }
   ],
   "source": [
    "df1_2 = pd.merge(df1, df2, on='tweet_id', how='left', suffixes=('_',''))\n",
    "df1_2.drop(['timestamp', 'favorite_count', 'retweet_count', 'numerator', 'denominator'], axis = 1, inplace=True)\n",
    "df1_2.head(2)\n"
   ]
  },
  {
   "cell_type": "code",
   "execution_count": 11,
   "metadata": {
    "scrolled": true
   },
   "outputs": [
    {
     "data": {
      "text/html": [
       "<div>\n",
       "<style>\n",
       "    .dataframe thead tr:only-child th {\n",
       "        text-align: right;\n",
       "    }\n",
       "\n",
       "    .dataframe thead th {\n",
       "        text-align: left;\n",
       "    }\n",
       "\n",
       "    .dataframe tbody tr th {\n",
       "        vertical-align: top;\n",
       "    }\n",
       "</style>\n",
       "<table border=\"1\" class=\"dataframe\">\n",
       "  <thead>\n",
       "    <tr style=\"text-align: right;\">\n",
       "      <th></th>\n",
       "      <th>tweet_id</th>\n",
       "      <th>timestamp_</th>\n",
       "      <th>favorite_count_</th>\n",
       "      <th>retweet_count_</th>\n",
       "      <th>numerator_</th>\n",
       "      <th>denominator_</th>\n",
       "      <th>stage</th>\n",
       "      <th>stage_name</th>\n",
       "      <th>prediction_level</th>\n",
       "      <th>prediction_value</th>\n",
       "      <th>confidence_level</th>\n",
       "      <th>confidence_value</th>\n",
       "    </tr>\n",
       "  </thead>\n",
       "  <tbody>\n",
       "    <tr>\n",
       "      <th>0</th>\n",
       "      <td>892420643555336193</td>\n",
       "      <td>2017-08-01</td>\n",
       "      <td>38150</td>\n",
       "      <td>8346</td>\n",
       "      <td>13</td>\n",
       "      <td>10</td>\n",
       "      <td>doggo</td>\n",
       "      <td>None</td>\n",
       "      <td>p1</td>\n",
       "      <td>orange</td>\n",
       "      <td>p1_conf</td>\n",
       "      <td>0.097049</td>\n",
       "    </tr>\n",
       "    <tr>\n",
       "      <th>1</th>\n",
       "      <td>892420643555336193</td>\n",
       "      <td>2017-08-01</td>\n",
       "      <td>38150</td>\n",
       "      <td>8346</td>\n",
       "      <td>13</td>\n",
       "      <td>10</td>\n",
       "      <td>doggo</td>\n",
       "      <td>None</td>\n",
       "      <td>p1</td>\n",
       "      <td>orange</td>\n",
       "      <td>p2_conf</td>\n",
       "      <td>0.085851</td>\n",
       "    </tr>\n",
       "  </tbody>\n",
       "</table>\n",
       "</div>"
      ],
      "text/plain": [
       "             tweet_id  timestamp_  favorite_count_  retweet_count_  \\\n",
       "0  892420643555336193  2017-08-01            38150            8346   \n",
       "1  892420643555336193  2017-08-01            38150            8346   \n",
       "\n",
       "   numerator_  denominator_  stage stage_name prediction_level  \\\n",
       "0          13            10  doggo       None               p1   \n",
       "1          13            10  doggo       None               p1   \n",
       "\n",
       "  prediction_value confidence_level  confidence_value  \n",
       "0           orange          p1_conf          0.097049  \n",
       "1           orange          p2_conf          0.085851  "
      ]
     },
     "execution_count": 11,
     "metadata": {},
     "output_type": "execute_result"
    }
   ],
   "source": [
    "df1_3 = pd.merge(df1_2, df3, on='tweet_id', how='left', suffixes=('_',''))\n",
    "df1_3.drop(['timestamp', 'favorite_count', 'retweet_count', 'numerator', 'denominator'], axis = 1, inplace=True)\n",
    "df1_3.head(2)"
   ]
  },
  {
   "cell_type": "code",
   "execution_count": 12,
   "metadata": {
    "scrolled": false
   },
   "outputs": [
    {
     "data": {
      "text/html": [
       "<div>\n",
       "<style>\n",
       "    .dataframe thead tr:only-child th {\n",
       "        text-align: right;\n",
       "    }\n",
       "\n",
       "    .dataframe thead th {\n",
       "        text-align: left;\n",
       "    }\n",
       "\n",
       "    .dataframe tbody tr th {\n",
       "        vertical-align: top;\n",
       "    }\n",
       "</style>\n",
       "<table border=\"1\" class=\"dataframe\">\n",
       "  <thead>\n",
       "    <tr style=\"text-align: right;\">\n",
       "      <th></th>\n",
       "      <th>tweet_id</th>\n",
       "      <th>timestamp_</th>\n",
       "      <th>favorite_count_</th>\n",
       "      <th>retweet_count_</th>\n",
       "      <th>numerator_</th>\n",
       "      <th>denominator_</th>\n",
       "      <th>stage</th>\n",
       "      <th>prediction_level</th>\n",
       "      <th>prediction_value</th>\n",
       "      <th>confidence_level</th>\n",
       "      <th>confidence_value</th>\n",
       "      <th>is_breed</th>\n",
       "      <th>dog_value</th>\n",
       "    </tr>\n",
       "  </thead>\n",
       "  <tbody>\n",
       "    <tr>\n",
       "      <th>0</th>\n",
       "      <td>892420643555336193</td>\n",
       "      <td>2017-08-01</td>\n",
       "      <td>38150</td>\n",
       "      <td>8346</td>\n",
       "      <td>13</td>\n",
       "      <td>10</td>\n",
       "      <td>doggo</td>\n",
       "      <td>p1</td>\n",
       "      <td>orange</td>\n",
       "      <td>p1_conf</td>\n",
       "      <td>0.097049</td>\n",
       "      <td>p1_dog</td>\n",
       "      <td>False</td>\n",
       "    </tr>\n",
       "    <tr>\n",
       "      <th>1</th>\n",
       "      <td>892420643555336193</td>\n",
       "      <td>2017-08-01</td>\n",
       "      <td>38150</td>\n",
       "      <td>8346</td>\n",
       "      <td>13</td>\n",
       "      <td>10</td>\n",
       "      <td>doggo</td>\n",
       "      <td>p1</td>\n",
       "      <td>orange</td>\n",
       "      <td>p1_conf</td>\n",
       "      <td>0.097049</td>\n",
       "      <td>p2_dog</td>\n",
       "      <td>False</td>\n",
       "    </tr>\n",
       "  </tbody>\n",
       "</table>\n",
       "</div>"
      ],
      "text/plain": [
       "             tweet_id  timestamp_  favorite_count_  retweet_count_  \\\n",
       "0  892420643555336193  2017-08-01            38150            8346   \n",
       "1  892420643555336193  2017-08-01            38150            8346   \n",
       "\n",
       "   numerator_  denominator_  stage prediction_level prediction_value  \\\n",
       "0          13            10  doggo               p1           orange   \n",
       "1          13            10  doggo               p1           orange   \n",
       "\n",
       "  confidence_level  confidence_value is_breed  dog_value  \n",
       "0          p1_conf          0.097049   p1_dog      False  \n",
       "1          p1_conf          0.097049   p2_dog      False  "
      ]
     },
     "execution_count": 12,
     "metadata": {},
     "output_type": "execute_result"
    }
   ],
   "source": [
    "df1_4 = pd.merge(df1_3, df4, on='tweet_id', how='left', suffixes=('_',''))\n",
    "df1_4.drop(['timestamp', 'favorite_count', 'retweet_count', 'numerator', 'denominator', 'stage_name'], axis = 1, inplace=True)\n",
    "\n",
    "df1_4.head(2)"
   ]
  },
  {
   "cell_type": "code",
   "execution_count": 13,
   "metadata": {
    "scrolled": true
   },
   "outputs": [
    {
     "data": {
      "text/plain": [
       "Index(['tweet_id', 'timestamp', 'favorite_count', 'retweet_count', 'numerator',\n",
       "       'denominator', 'stage', 'prediction_level', 'prediction_value',\n",
       "       'confidence_level', 'confidence_value', 'is_breed', 'dog_value'],\n",
       "      dtype='object')"
      ]
     },
     "execution_count": 13,
     "metadata": {},
     "output_type": "execute_result"
    }
   ],
   "source": [
    "# Correct the column names\n",
    "df1_4.rename(columns = {'timestamp_' : 'timestamp', 'favorite_count_': 'favorite_count', 'retweet_count_': 'retweet_count', 'numerator_' : 'numerator', 'denominator_' : 'denominator'}, inplace=True)\n",
    "# Test\n",
    "df1_4.columns\n"
   ]
  },
  {
   "cell_type": "code",
   "execution_count": 14,
   "metadata": {
    "scrolled": true
   },
   "outputs": [
    {
     "name": "stdout",
     "output_type": "stream",
     "text": [
      "<class 'pandas.core.frame.DataFrame'>\n",
      "Int64Index: 223344 entries, 0 to 223343\n",
      "Data columns (total 13 columns):\n",
      "tweet_id            223344 non-null object\n",
      "timestamp           223344 non-null datetime64[ns]\n",
      "favorite_count      223344 non-null int64\n",
      "retweet_count       223344 non-null int64\n",
      "numerator           223344 non-null int64\n",
      "denominator         223344 non-null int64\n",
      "stage               223344 non-null object\n",
      "prediction_level    223344 non-null object\n",
      "prediction_value    223344 non-null object\n",
      "confidence_level    223344 non-null object\n",
      "confidence_value    223344 non-null float64\n",
      "is_breed            223344 non-null object\n",
      "dog_value           223344 non-null bool\n",
      "dtypes: bool(1), datetime64[ns](1), float64(1), int64(4), object(6)\n",
      "memory usage: 22.4+ MB\n"
     ]
    }
   ],
   "source": [
    "#### Define - clean tweet Id and timestamp again\n",
    "#### code\n",
    "df1_4['tweet_id'] = df1_4['tweet_id'].astype(object)\n",
    "df1_4['timestamp'] = pd.to_datetime(df1_4.timestamp)\n",
    "df1_4.info()"
   ]
  },
  {
   "cell_type": "code",
   "execution_count": 15,
   "metadata": {
    "scrolled": true
   },
   "outputs": [],
   "source": [
    "# polishing - rename, add new column\n",
    "df1_4.rename(columns = {'is_breed' : 'breed_level', 'dog_value' : 'is_breed'}, inplace=True)\n"
   ]
  },
  {
   "cell_type": "code",
   "execution_count": 16,
   "metadata": {
    "scrolled": true
   },
   "outputs": [
    {
     "data": {
      "text/html": [
       "<div>\n",
       "<style>\n",
       "    .dataframe thead tr:only-child th {\n",
       "        text-align: right;\n",
       "    }\n",
       "\n",
       "    .dataframe thead th {\n",
       "        text-align: left;\n",
       "    }\n",
       "\n",
       "    .dataframe tbody tr th {\n",
       "        vertical-align: top;\n",
       "    }\n",
       "</style>\n",
       "<table border=\"1\" class=\"dataframe\">\n",
       "  <thead>\n",
       "    <tr style=\"text-align: right;\">\n",
       "      <th></th>\n",
       "      <th>tweet_id</th>\n",
       "      <th>timestamp</th>\n",
       "      <th>favorite_count</th>\n",
       "      <th>retweet_count</th>\n",
       "      <th>numerator</th>\n",
       "      <th>denominator</th>\n",
       "      <th>stage</th>\n",
       "      <th>prediction_level</th>\n",
       "      <th>prediction_value</th>\n",
       "      <th>confidence_level</th>\n",
       "      <th>confidence_value</th>\n",
       "      <th>breed_level</th>\n",
       "      <th>is_breed</th>\n",
       "      <th>rating</th>\n",
       "    </tr>\n",
       "  </thead>\n",
       "  <tbody>\n",
       "    <tr>\n",
       "      <th>0</th>\n",
       "      <td>892420643555336193</td>\n",
       "      <td>2017-08-01</td>\n",
       "      <td>38150</td>\n",
       "      <td>8346</td>\n",
       "      <td>13</td>\n",
       "      <td>10</td>\n",
       "      <td>doggo</td>\n",
       "      <td>p1</td>\n",
       "      <td>orange</td>\n",
       "      <td>p1_conf</td>\n",
       "      <td>0.097049</td>\n",
       "      <td>p1_dog</td>\n",
       "      <td>False</td>\n",
       "      <td>1.3</td>\n",
       "    </tr>\n",
       "    <tr>\n",
       "      <th>1</th>\n",
       "      <td>892420643555336193</td>\n",
       "      <td>2017-08-01</td>\n",
       "      <td>38150</td>\n",
       "      <td>8346</td>\n",
       "      <td>13</td>\n",
       "      <td>10</td>\n",
       "      <td>doggo</td>\n",
       "      <td>p1</td>\n",
       "      <td>orange</td>\n",
       "      <td>p1_conf</td>\n",
       "      <td>0.097049</td>\n",
       "      <td>p2_dog</td>\n",
       "      <td>False</td>\n",
       "      <td>1.3</td>\n",
       "    </tr>\n",
       "    <tr>\n",
       "      <th>2</th>\n",
       "      <td>892420643555336193</td>\n",
       "      <td>2017-08-01</td>\n",
       "      <td>38150</td>\n",
       "      <td>8346</td>\n",
       "      <td>13</td>\n",
       "      <td>10</td>\n",
       "      <td>doggo</td>\n",
       "      <td>p1</td>\n",
       "      <td>orange</td>\n",
       "      <td>p1_conf</td>\n",
       "      <td>0.097049</td>\n",
       "      <td>p3_dog</td>\n",
       "      <td>False</td>\n",
       "      <td>1.3</td>\n",
       "    </tr>\n",
       "    <tr>\n",
       "      <th>3</th>\n",
       "      <td>892420643555336193</td>\n",
       "      <td>2017-08-01</td>\n",
       "      <td>38150</td>\n",
       "      <td>8346</td>\n",
       "      <td>13</td>\n",
       "      <td>10</td>\n",
       "      <td>doggo</td>\n",
       "      <td>p1</td>\n",
       "      <td>orange</td>\n",
       "      <td>p2_conf</td>\n",
       "      <td>0.085851</td>\n",
       "      <td>p1_dog</td>\n",
       "      <td>False</td>\n",
       "      <td>1.3</td>\n",
       "    </tr>\n",
       "    <tr>\n",
       "      <th>4</th>\n",
       "      <td>892420643555336193</td>\n",
       "      <td>2017-08-01</td>\n",
       "      <td>38150</td>\n",
       "      <td>8346</td>\n",
       "      <td>13</td>\n",
       "      <td>10</td>\n",
       "      <td>doggo</td>\n",
       "      <td>p1</td>\n",
       "      <td>orange</td>\n",
       "      <td>p2_conf</td>\n",
       "      <td>0.085851</td>\n",
       "      <td>p2_dog</td>\n",
       "      <td>False</td>\n",
       "      <td>1.3</td>\n",
       "    </tr>\n",
       "  </tbody>\n",
       "</table>\n",
       "</div>"
      ],
      "text/plain": [
       "             tweet_id  timestamp  favorite_count  retweet_count  numerator  \\\n",
       "0  892420643555336193 2017-08-01           38150           8346         13   \n",
       "1  892420643555336193 2017-08-01           38150           8346         13   \n",
       "2  892420643555336193 2017-08-01           38150           8346         13   \n",
       "3  892420643555336193 2017-08-01           38150           8346         13   \n",
       "4  892420643555336193 2017-08-01           38150           8346         13   \n",
       "\n",
       "   denominator  stage prediction_level prediction_value confidence_level  \\\n",
       "0           10  doggo               p1           orange          p1_conf   \n",
       "1           10  doggo               p1           orange          p1_conf   \n",
       "2           10  doggo               p1           orange          p1_conf   \n",
       "3           10  doggo               p1           orange          p2_conf   \n",
       "4           10  doggo               p1           orange          p2_conf   \n",
       "\n",
       "   confidence_value breed_level  is_breed  rating  \n",
       "0          0.097049      p1_dog     False     1.3  \n",
       "1          0.097049      p2_dog     False     1.3  \n",
       "2          0.097049      p3_dog     False     1.3  \n",
       "3          0.085851      p1_dog     False     1.3  \n",
       "4          0.085851      p2_dog     False     1.3  "
      ]
     },
     "execution_count": 16,
     "metadata": {},
     "output_type": "execute_result"
    }
   ],
   "source": [
    "#adding a rating column\n",
    "rating = (df1_4['numerator'] / df1_4['denominator'])\n",
    "df1_4['rating'] = rating\n",
    "df_master = df1_4\n",
    "df_master.head()"
   ]
  },
  {
   "cell_type": "code",
   "execution_count": 17,
   "metadata": {
    "scrolled": true
   },
   "outputs": [],
   "source": [
    "#adding a year column\n",
    "year = df_master.timestamp.dt.year\n",
    "df_master['year'] = year"
   ]
  },
  {
   "cell_type": "code",
   "execution_count": 18,
   "metadata": {
    "scrolled": true
   },
   "outputs": [
    {
     "data": {
      "text/html": [
       "<div>\n",
       "<style>\n",
       "    .dataframe thead tr:only-child th {\n",
       "        text-align: right;\n",
       "    }\n",
       "\n",
       "    .dataframe thead th {\n",
       "        text-align: left;\n",
       "    }\n",
       "\n",
       "    .dataframe tbody tr th {\n",
       "        vertical-align: top;\n",
       "    }\n",
       "</style>\n",
       "<table border=\"1\" class=\"dataframe\">\n",
       "  <thead>\n",
       "    <tr style=\"text-align: right;\">\n",
       "      <th></th>\n",
       "      <th>tweet_id</th>\n",
       "      <th>timestamp</th>\n",
       "      <th>favorite_count</th>\n",
       "      <th>retweet_count</th>\n",
       "      <th>numerator</th>\n",
       "      <th>denominator</th>\n",
       "      <th>stage</th>\n",
       "      <th>prediction_level</th>\n",
       "      <th>prediction_value</th>\n",
       "      <th>confidence_level</th>\n",
       "      <th>confidence_value</th>\n",
       "      <th>breed_level</th>\n",
       "      <th>is_breed</th>\n",
       "      <th>rating</th>\n",
       "      <th>year</th>\n",
       "    </tr>\n",
       "  </thead>\n",
       "  <tbody>\n",
       "    <tr>\n",
       "      <th>0</th>\n",
       "      <td>892420643555336193</td>\n",
       "      <td>2017-08-01</td>\n",
       "      <td>38150</td>\n",
       "      <td>8346</td>\n",
       "      <td>13</td>\n",
       "      <td>10</td>\n",
       "      <td>doggo</td>\n",
       "      <td>p1</td>\n",
       "      <td>orange</td>\n",
       "      <td>p1_conf</td>\n",
       "      <td>0.097049</td>\n",
       "      <td>p1_dog</td>\n",
       "      <td>False</td>\n",
       "      <td>1.3</td>\n",
       "      <td>2017</td>\n",
       "    </tr>\n",
       "    <tr>\n",
       "      <th>1</th>\n",
       "      <td>892420643555336193</td>\n",
       "      <td>2017-08-01</td>\n",
       "      <td>38150</td>\n",
       "      <td>8346</td>\n",
       "      <td>13</td>\n",
       "      <td>10</td>\n",
       "      <td>doggo</td>\n",
       "      <td>p1</td>\n",
       "      <td>orange</td>\n",
       "      <td>p1_conf</td>\n",
       "      <td>0.097049</td>\n",
       "      <td>p2_dog</td>\n",
       "      <td>False</td>\n",
       "      <td>1.3</td>\n",
       "      <td>2017</td>\n",
       "    </tr>\n",
       "    <tr>\n",
       "      <th>2</th>\n",
       "      <td>892420643555336193</td>\n",
       "      <td>2017-08-01</td>\n",
       "      <td>38150</td>\n",
       "      <td>8346</td>\n",
       "      <td>13</td>\n",
       "      <td>10</td>\n",
       "      <td>doggo</td>\n",
       "      <td>p1</td>\n",
       "      <td>orange</td>\n",
       "      <td>p1_conf</td>\n",
       "      <td>0.097049</td>\n",
       "      <td>p3_dog</td>\n",
       "      <td>False</td>\n",
       "      <td>1.3</td>\n",
       "      <td>2017</td>\n",
       "    </tr>\n",
       "    <tr>\n",
       "      <th>3</th>\n",
       "      <td>892420643555336193</td>\n",
       "      <td>2017-08-01</td>\n",
       "      <td>38150</td>\n",
       "      <td>8346</td>\n",
       "      <td>13</td>\n",
       "      <td>10</td>\n",
       "      <td>doggo</td>\n",
       "      <td>p1</td>\n",
       "      <td>orange</td>\n",
       "      <td>p2_conf</td>\n",
       "      <td>0.085851</td>\n",
       "      <td>p1_dog</td>\n",
       "      <td>False</td>\n",
       "      <td>1.3</td>\n",
       "      <td>2017</td>\n",
       "    </tr>\n",
       "    <tr>\n",
       "      <th>4</th>\n",
       "      <td>892420643555336193</td>\n",
       "      <td>2017-08-01</td>\n",
       "      <td>38150</td>\n",
       "      <td>8346</td>\n",
       "      <td>13</td>\n",
       "      <td>10</td>\n",
       "      <td>doggo</td>\n",
       "      <td>p1</td>\n",
       "      <td>orange</td>\n",
       "      <td>p2_conf</td>\n",
       "      <td>0.085851</td>\n",
       "      <td>p2_dog</td>\n",
       "      <td>False</td>\n",
       "      <td>1.3</td>\n",
       "      <td>2017</td>\n",
       "    </tr>\n",
       "  </tbody>\n",
       "</table>\n",
       "</div>"
      ],
      "text/plain": [
       "             tweet_id  timestamp  favorite_count  retweet_count  numerator  \\\n",
       "0  892420643555336193 2017-08-01           38150           8346         13   \n",
       "1  892420643555336193 2017-08-01           38150           8346         13   \n",
       "2  892420643555336193 2017-08-01           38150           8346         13   \n",
       "3  892420643555336193 2017-08-01           38150           8346         13   \n",
       "4  892420643555336193 2017-08-01           38150           8346         13   \n",
       "\n",
       "   denominator  stage prediction_level prediction_value confidence_level  \\\n",
       "0           10  doggo               p1           orange          p1_conf   \n",
       "1           10  doggo               p1           orange          p1_conf   \n",
       "2           10  doggo               p1           orange          p1_conf   \n",
       "3           10  doggo               p1           orange          p2_conf   \n",
       "4           10  doggo               p1           orange          p2_conf   \n",
       "\n",
       "   confidence_value breed_level  is_breed  rating  year  \n",
       "0          0.097049      p1_dog     False     1.3  2017  \n",
       "1          0.097049      p2_dog     False     1.3  2017  \n",
       "2          0.097049      p3_dog     False     1.3  2017  \n",
       "3          0.085851      p1_dog     False     1.3  2017  \n",
       "4          0.085851      p2_dog     False     1.3  2017  "
      ]
     },
     "execution_count": 18,
     "metadata": {},
     "output_type": "execute_result"
    }
   ],
   "source": [
    "# 'Completed' the cleaning phase\n",
    "df_master = df1_4\n",
    "df_master.head()"
   ]
  },
  {
   "cell_type": "markdown",
   "metadata": {},
   "source": [
    "## Analysing and Visualizing Data for this Project"
   ]
  },
  {
   "cell_type": "markdown",
   "metadata": {},
   "source": [
    "#### Store"
   ]
  },
  {
   "cell_type": "code",
   "execution_count": 19,
   "metadata": {},
   "outputs": [],
   "source": [
    "df_master.to_csv('twitter_archive_master.csv', encoding='utf-8', index=False)"
   ]
  },
  {
   "cell_type": "code",
   "execution_count": 20,
   "metadata": {
    "scrolled": true
   },
   "outputs": [
    {
     "data": {
      "text/html": [
       "<div>\n",
       "<style>\n",
       "    .dataframe thead tr:only-child th {\n",
       "        text-align: right;\n",
       "    }\n",
       "\n",
       "    .dataframe thead th {\n",
       "        text-align: left;\n",
       "    }\n",
       "\n",
       "    .dataframe tbody tr th {\n",
       "        vertical-align: top;\n",
       "    }\n",
       "</style>\n",
       "<table border=\"1\" class=\"dataframe\">\n",
       "  <thead>\n",
       "    <tr style=\"text-align: right;\">\n",
       "      <th></th>\n",
       "      <th>favorite_count</th>\n",
       "      <th>retweet_count</th>\n",
       "      <th>numerator</th>\n",
       "      <th>denominator</th>\n",
       "      <th>confidence_value</th>\n",
       "      <th>rating</th>\n",
       "      <th>year</th>\n",
       "    </tr>\n",
       "  </thead>\n",
       "  <tbody>\n",
       "    <tr>\n",
       "      <th>0</th>\n",
       "      <td>38150</td>\n",
       "      <td>8346</td>\n",
       "      <td>13</td>\n",
       "      <td>10</td>\n",
       "      <td>0.097049</td>\n",
       "      <td>1.3</td>\n",
       "      <td>2017</td>\n",
       "    </tr>\n",
       "    <tr>\n",
       "      <th>1</th>\n",
       "      <td>38150</td>\n",
       "      <td>8346</td>\n",
       "      <td>13</td>\n",
       "      <td>10</td>\n",
       "      <td>0.097049</td>\n",
       "      <td>1.3</td>\n",
       "      <td>2017</td>\n",
       "    </tr>\n",
       "    <tr>\n",
       "      <th>2</th>\n",
       "      <td>38150</td>\n",
       "      <td>8346</td>\n",
       "      <td>13</td>\n",
       "      <td>10</td>\n",
       "      <td>0.097049</td>\n",
       "      <td>1.3</td>\n",
       "      <td>2017</td>\n",
       "    </tr>\n",
       "    <tr>\n",
       "      <th>3</th>\n",
       "      <td>38150</td>\n",
       "      <td>8346</td>\n",
       "      <td>13</td>\n",
       "      <td>10</td>\n",
       "      <td>0.085851</td>\n",
       "      <td>1.3</td>\n",
       "      <td>2017</td>\n",
       "    </tr>\n",
       "    <tr>\n",
       "      <th>4</th>\n",
       "      <td>38150</td>\n",
       "      <td>8346</td>\n",
       "      <td>13</td>\n",
       "      <td>10</td>\n",
       "      <td>0.085851</td>\n",
       "      <td>1.3</td>\n",
       "      <td>2017</td>\n",
       "    </tr>\n",
       "  </tbody>\n",
       "</table>\n",
       "</div>"
      ],
      "text/plain": [
       "   favorite_count  retweet_count  numerator  denominator  confidence_value  \\\n",
       "0           38150           8346         13           10          0.097049   \n",
       "1           38150           8346         13           10          0.097049   \n",
       "2           38150           8346         13           10          0.097049   \n",
       "3           38150           8346         13           10          0.085851   \n",
       "4           38150           8346         13           10          0.085851   \n",
       "\n",
       "   rating  year  \n",
       "0     1.3  2017  \n",
       "1     1.3  2017  \n",
       "2     1.3  2017  \n",
       "3     1.3  2017  \n",
       "4     1.3  2017  "
      ]
     },
     "execution_count": 20,
     "metadata": {},
     "output_type": "execute_result"
    }
   ],
   "source": [
    "#select all numeric variables\n",
    "df_num = df_master.select_dtypes(include= ['float64', 'int64'])\n",
    "df_num.head()"
   ]
  },
  {
   "cell_type": "code",
   "execution_count": 31,
   "metadata": {},
   "outputs": [
    {
     "data": {
      "text/html": [
       "<div>\n",
       "<style>\n",
       "    .dataframe thead tr:only-child th {\n",
       "        text-align: right;\n",
       "    }\n",
       "\n",
       "    .dataframe thead th {\n",
       "        text-align: left;\n",
       "    }\n",
       "\n",
       "    .dataframe tbody tr th {\n",
       "        vertical-align: top;\n",
       "    }\n",
       "</style>\n",
       "<table border=\"1\" class=\"dataframe\">\n",
       "  <thead>\n",
       "    <tr style=\"text-align: right;\">\n",
       "      <th></th>\n",
       "      <th>favorite_count</th>\n",
       "      <th>retweet_count</th>\n",
       "      <th>confidence_value</th>\n",
       "      <th>rating</th>\n",
       "    </tr>\n",
       "  </thead>\n",
       "  <tbody>\n",
       "    <tr>\n",
       "      <th>count</th>\n",
       "      <td>223344.000000</td>\n",
       "      <td>223344.000000</td>\n",
       "      <td>2.233440e+05</td>\n",
       "      <td>223344.000000</td>\n",
       "    </tr>\n",
       "    <tr>\n",
       "      <th>mean</th>\n",
       "      <td>8440.532882</td>\n",
       "      <td>2815.276112</td>\n",
       "      <td>2.632591e-01</td>\n",
       "      <td>1.169576</td>\n",
       "    </tr>\n",
       "    <tr>\n",
       "      <th>std</th>\n",
       "      <td>12701.619705</td>\n",
       "      <td>4892.087516</td>\n",
       "      <td>2.909963e-01</td>\n",
       "      <td>3.992735</td>\n",
       "    </tr>\n",
       "    <tr>\n",
       "      <th>min</th>\n",
       "      <td>0.000000</td>\n",
       "      <td>12.000000</td>\n",
       "      <td>1.740170e-10</td>\n",
       "      <td>0.000000</td>\n",
       "    </tr>\n",
       "    <tr>\n",
       "      <th>25%</th>\n",
       "      <td>1605.000000</td>\n",
       "      <td>598.500000</td>\n",
       "      <td>5.093465e-02</td>\n",
       "      <td>1.000000</td>\n",
       "    </tr>\n",
       "    <tr>\n",
       "      <th>50%</th>\n",
       "      <td>3714.000000</td>\n",
       "      <td>1324.500000</td>\n",
       "      <td>1.351775e-01</td>\n",
       "      <td>1.100000</td>\n",
       "    </tr>\n",
       "    <tr>\n",
       "      <th>75%</th>\n",
       "      <td>10568.500000</td>\n",
       "      <td>3249.500000</td>\n",
       "      <td>3.796912e-01</td>\n",
       "      <td>1.200000</td>\n",
       "    </tr>\n",
       "    <tr>\n",
       "      <th>max</th>\n",
       "      <td>164691.000000</td>\n",
       "      <td>83927.000000</td>\n",
       "      <td>1.000000e+00</td>\n",
       "      <td>177.600000</td>\n",
       "    </tr>\n",
       "  </tbody>\n",
       "</table>\n",
       "</div>"
      ],
      "text/plain": [
       "       favorite_count  retweet_count  confidence_value         rating\n",
       "count   223344.000000  223344.000000      2.233440e+05  223344.000000\n",
       "mean      8440.532882    2815.276112      2.632591e-01       1.169576\n",
       "std      12701.619705    4892.087516      2.909963e-01       3.992735\n",
       "min          0.000000      12.000000      1.740170e-10       0.000000\n",
       "25%       1605.000000     598.500000      5.093465e-02       1.000000\n",
       "50%       3714.000000    1324.500000      1.351775e-01       1.100000\n",
       "75%      10568.500000    3249.500000      3.796912e-01       1.200000\n",
       "max     164691.000000   83927.000000      1.000000e+00     177.600000"
      ]
     },
     "execution_count": 31,
     "metadata": {},
     "output_type": "execute_result"
    }
   ],
   "source": [
    "df_num.describe()"
   ]
  },
  {
   "cell_type": "code",
   "execution_count": 21,
   "metadata": {
    "scrolled": false
   },
   "outputs": [
    {
     "data": {
      "text/plain": [
       "[6.0, 4.0]"
      ]
     },
     "execution_count": 21,
     "metadata": {},
     "output_type": "execute_result"
    },
    {
     "data": {
      "image/png": "[encoded data removed]",
      "text/plain": [
       "<matplotlib.figure.Figure at 0x7f903fe50320>"
      ]
     },
     "metadata": {
      "needs_background": "light"
     },
     "output_type": "display_data"
    }
   ],
   "source": [
    "#distribution of numeric variables\n",
    "df_num.hist(bins = 20)\n",
    "import matplotlib.pyplot as plt\n",
    "plt.style.use('ggplot')\n",
    "plt.rcParams['figure.figsize']\n"
   ]
  },
  {
   "cell_type": "code",
   "execution_count": 22,
   "metadata": {
    "scrolled": true
   },
   "outputs": [
    {
     "data": {
      "text/plain": [
       "<seaborn.axisgrid.PairGrid at 0x7f903d442ba8>"
      ]
     },
     "execution_count": 22,
     "metadata": {},
     "output_type": "execute_result"
    },
    {
     "data": {
      "image/png": "[encoded data removed]",
      "text/plain": [
       "<matplotlib.figure.Figure at 0x7f903d44e668>"
      ]
     },
     "metadata": {},
     "output_type": "display_data"
    }
   ],
   "source": [
    "#Could there be some relation btween favorite count, retweet and rating?\n",
    "#Create the default pairplot\n",
    "df_num = df_num.drop(['numerator', 'denominator', 'year'], axis = 1)\n",
    "sns.pairplot(df_num)"
   ]
  },
  {
   "cell_type": "code",
   "execution_count": 23,
   "metadata": {
    "scrolled": true
   },
   "outputs": [
    {
     "data": {
      "image/png": "[encoded data removed]",
      "text/plain": [
       "<matplotlib.figure.Figure at 0x7f903cd53898>"
      ]
     },
     "metadata": {},
     "output_type": "display_data"
    }
   ],
   "source": [
    "#postive relation only in retweet and favourite pair - expected as shown above!\n",
    "#correlation Plot - positive relation\n",
    "df_master.plot(kind='scatter', x = 'retweet_count', y= 'favorite_count')\n",
    "plt.title(\"Retweet_count vs. Favorite_count\")\n",
    "plt.show()\n"
   ]
  },
  {
   "cell_type": "code",
   "execution_count": 41,
   "metadata": {},
   "outputs": [
    {
     "data": {
      "text/html": [
       "<div>\n",
       "<style>\n",
       "    .dataframe thead tr:only-child th {\n",
       "        text-align: right;\n",
       "    }\n",
       "\n",
       "    .dataframe thead th {\n",
       "        text-align: left;\n",
       "    }\n",
       "\n",
       "    .dataframe tbody tr th {\n",
       "        vertical-align: top;\n",
       "    }\n",
       "</style>\n",
       "<table border=\"1\" class=\"dataframe\">\n",
       "  <thead>\n",
       "    <tr style=\"text-align: right;\">\n",
       "      <th></th>\n",
       "      <th>retweet_count</th>\n",
       "      <th>favorite_count</th>\n",
       "    </tr>\n",
       "  </thead>\n",
       "  <tbody>\n",
       "    <tr>\n",
       "      <th>retweet_count</th>\n",
       "      <td>1.000000</td>\n",
       "      <td>0.856799</td>\n",
       "    </tr>\n",
       "    <tr>\n",
       "      <th>favorite_count</th>\n",
       "      <td>0.856799</td>\n",
       "      <td>1.000000</td>\n",
       "    </tr>\n",
       "  </tbody>\n",
       "</table>\n",
       "</div>"
      ],
      "text/plain": [
       "                retweet_count  favorite_count\n",
       "retweet_count        1.000000        0.856799\n",
       "favorite_count       0.856799        1.000000"
      ]
     },
     "execution_count": 41,
     "metadata": {},
     "output_type": "execute_result"
    }
   ],
   "source": [
    "dfcorr = df_master[['retweet_count','favorite_count']]\n",
    "dfcorr.corr(method='pearson')"
   ]
  },
  {
   "cell_type": "code",
   "execution_count": null,
   "metadata": {},
   "outputs": [],
   "source": [
    "WeRateDogs is a Twitter account that rates people's dogs with a humorous comment about the dog. Yes its a place to humor you and s>>>>>>>>>>>>>"
   ]
  },
  {
   "cell_type": "code",
   "execution_count": 24,
   "metadata": {},
   "outputs": [
    {
     "data": {
      "text/html": [
       "<div>\n",
       "<style>\n",
       "    .dataframe thead tr:only-child th {\n",
       "        text-align: right;\n",
       "    }\n",
       "\n",
       "    .dataframe thead th {\n",
       "        text-align: left;\n",
       "    }\n",
       "\n",
       "    .dataframe tbody tr th {\n",
       "        vertical-align: top;\n",
       "    }\n",
       "</style>\n",
       "<table border=\"1\" class=\"dataframe\">\n",
       "  <thead>\n",
       "    <tr style=\"text-align: right;\">\n",
       "      <th></th>\n",
       "      <th>tweet_id</th>\n",
       "      <th>timestamp</th>\n",
       "      <th>favorite_count</th>\n",
       "      <th>retweet_count</th>\n",
       "      <th>numerator</th>\n",
       "      <th>denominator</th>\n",
       "      <th>stage</th>\n",
       "      <th>prediction_level</th>\n",
       "      <th>prediction_value</th>\n",
       "      <th>confidence_level</th>\n",
       "      <th>confidence_value</th>\n",
       "      <th>breed_level</th>\n",
       "      <th>is_breed</th>\n",
       "      <th>rating</th>\n",
       "      <th>year</th>\n",
       "    </tr>\n",
       "  </thead>\n",
       "  <tbody>\n",
       "    <tr>\n",
       "      <th>47796</th>\n",
       "      <td>671390180817915904</td>\n",
       "      <td>2015-12-19</td>\n",
       "      <td>1449</td>\n",
       "      <td>753</td>\n",
       "      <td>7</td>\n",
       "      <td>10</td>\n",
       "      <td>doggo</td>\n",
       "      <td>p1</td>\n",
       "      <td>zebra</td>\n",
       "      <td>p3_conf</td>\n",
       "      <td>0.000575</td>\n",
       "      <td>p1_dog</td>\n",
       "      <td>False</td>\n",
       "      <td>0.7</td>\n",
       "      <td>2015</td>\n",
       "    </tr>\n",
       "    <tr>\n",
       "      <th>151386</th>\n",
       "      <td>679530280114372609</td>\n",
       "      <td>2016-02-01</td>\n",
       "      <td>4988</td>\n",
       "      <td>2219</td>\n",
       "      <td>7</td>\n",
       "      <td>10</td>\n",
       "      <td>pupper</td>\n",
       "      <td>p3</td>\n",
       "      <td>zebra</td>\n",
       "      <td>p3_conf</td>\n",
       "      <td>0.006481</td>\n",
       "      <td>p1_dog</td>\n",
       "      <td>True</td>\n",
       "      <td>0.7</td>\n",
       "      <td>2016</td>\n",
       "    </tr>\n",
       "    <tr>\n",
       "      <th>151384</th>\n",
       "      <td>679530280114372609</td>\n",
       "      <td>2016-02-01</td>\n",
       "      <td>4988</td>\n",
       "      <td>2219</td>\n",
       "      <td>7</td>\n",
       "      <td>10</td>\n",
       "      <td>pupper</td>\n",
       "      <td>p3</td>\n",
       "      <td>zebra</td>\n",
       "      <td>p2_conf</td>\n",
       "      <td>0.169007</td>\n",
       "      <td>p2_dog</td>\n",
       "      <td>False</td>\n",
       "      <td>0.7</td>\n",
       "      <td>2016</td>\n",
       "    </tr>\n",
       "    <tr>\n",
       "      <th>151383</th>\n",
       "      <td>679530280114372609</td>\n",
       "      <td>2016-02-01</td>\n",
       "      <td>4988</td>\n",
       "      <td>2219</td>\n",
       "      <td>7</td>\n",
       "      <td>10</td>\n",
       "      <td>pupper</td>\n",
       "      <td>p3</td>\n",
       "      <td>zebra</td>\n",
       "      <td>p2_conf</td>\n",
       "      <td>0.169007</td>\n",
       "      <td>p1_dog</td>\n",
       "      <td>True</td>\n",
       "      <td>0.7</td>\n",
       "      <td>2016</td>\n",
       "    </tr>\n",
       "    <tr>\n",
       "      <th>151382</th>\n",
       "      <td>679530280114372609</td>\n",
       "      <td>2016-02-01</td>\n",
       "      <td>4988</td>\n",
       "      <td>2219</td>\n",
       "      <td>7</td>\n",
       "      <td>10</td>\n",
       "      <td>pupper</td>\n",
       "      <td>p3</td>\n",
       "      <td>zebra</td>\n",
       "      <td>p1_conf</td>\n",
       "      <td>0.750256</td>\n",
       "      <td>p3_dog</td>\n",
       "      <td>False</td>\n",
       "      <td>0.7</td>\n",
       "      <td>2016</td>\n",
       "    </tr>\n",
       "  </tbody>\n",
       "</table>\n",
       "</div>"
      ],
      "text/plain": [
       "                  tweet_id  timestamp  favorite_count  retweet_count  \\\n",
       "47796   671390180817915904 2015-12-19            1449            753   \n",
       "151386  679530280114372609 2016-02-01            4988           2219   \n",
       "151384  679530280114372609 2016-02-01            4988           2219   \n",
       "151383  679530280114372609 2016-02-01            4988           2219   \n",
       "151382  679530280114372609 2016-02-01            4988           2219   \n",
       "\n",
       "        numerator  denominator   stage prediction_level prediction_value  \\\n",
       "47796           7           10   doggo               p1            zebra   \n",
       "151386          7           10  pupper               p3            zebra   \n",
       "151384          7           10  pupper               p3            zebra   \n",
       "151383          7           10  pupper               p3            zebra   \n",
       "151382          7           10  pupper               p3            zebra   \n",
       "\n",
       "       confidence_level  confidence_value breed_level  is_breed  rating  year  \n",
       "47796           p3_conf          0.000575      p1_dog     False     0.7  2015  \n",
       "151386          p3_conf          0.006481      p1_dog      True     0.7  2016  \n",
       "151384          p2_conf          0.169007      p2_dog     False     0.7  2016  \n",
       "151383          p2_conf          0.169007      p1_dog      True     0.7  2016  \n",
       "151382          p1_conf          0.750256      p3_dog     False     0.7  2016  "
      ]
     },
     "execution_count": 24,
     "metadata": {},
     "output_type": "execute_result"
    }
   ],
   "source": [
    "df_master.sort_values(by = 'prediction_value', ascending = False).head()\n",
    "#prediction_values do not have the actual dog names...like zebra!\n",
    "#how can the P1 level at 0.997 confidence level call a dog zebra- unless its not the literal meaning"
   ]
  },
  {
   "cell_type": "code",
   "execution_count": 25,
   "metadata": {
    "scrolled": true
   },
   "outputs": [
    {
     "data": {
      "text/plain": [
       "prediction_value\n",
       "cocker_spaniel         3384\n",
       "chow                   3456\n",
       "pug                    3492\n",
       "toy_poodle             3780\n",
       "Pomeranian             3888\n",
       "Cardigan               4140\n",
       "Pembroke               5112\n",
       "Chihuahua              6588\n",
       "Labrador_retriever    10188\n",
       "golden_retriever      10440\n",
       "dtype: int64"
      ]
     },
     "execution_count": 25,
     "metadata": {},
     "output_type": "execute_result"
    }
   ],
   "source": [
    "#find the types of dogs predicted\n",
    "df_types =df_master.groupby('prediction_value').size()\n",
    "most_predicted = df_types.sort_values()[-10:]\n",
    "most_predicted"
   ]
  },
  {
   "cell_type": "code",
   "execution_count": 26,
   "metadata": {},
   "outputs": [
    {
     "data": {
      "text/plain": [
       "Text(0,0.5,'Prediction_value')"
      ]
     },
     "execution_count": 26,
     "metadata": {},
     "output_type": "execute_result"
    },
    {
     "data": {
      "image/png": "[encoded data removed]",
      "text/plain": [
       "<matplotlib.figure.Figure at 0x7f903ce0ecc0>"
      ]
     },
     "metadata": {},
     "output_type": "display_data"
    }
   ],
   "source": [
    "#plot the 10 most predicted dogs\n",
    "df_types.sort_values()[-10:].plot(kind='bar')\n",
    "plt.title('Top 10 most_predicted')\n",
    "plt.ylabel('Prediction_value')\n"
   ]
  },
  {
   "cell_type": "code",
   "execution_count": 27,
   "metadata": {},
   "outputs": [
    {
     "data": {
      "text/plain": [
       "prediction_value\n",
       "passenger_car       36\n",
       "mushroom            36\n",
       "buckeye             36\n",
       "bulletproof_vest    36\n",
       "bullfrog            36\n",
       "dtype: int64"
      ]
     },
     "execution_count": 27,
     "metadata": {},
     "output_type": "execute_result"
    }
   ],
   "source": [
    "#full list of prediction values\n",
    "df_types.sort_values().head()"
   ]
  },
  {
   "cell_type": "code",
   "execution_count": 28,
   "metadata": {},
   "outputs": [
    {
     "data": {
      "text/plain": [
       "array([<matplotlib.axes._subplots.AxesSubplot object at 0x7f903fe507b8>,\n",
       "       <matplotlib.axes._subplots.AxesSubplot object at 0x7f903d2bcef0>], dtype=object)"
      ]
     },
     "execution_count": 28,
     "metadata": {},
     "output_type": "execute_result"
    },
    {
     "data": {
      "image/png": "[encoded data removed]",
      "text/plain": [
       "<matplotlib.figure.Figure at 0x7f903f63c320>"
      ]
     },
     "metadata": {},
     "output_type": "display_data"
    }
   ],
   "source": [
    "#Does being a  breed influence the algorithms' prediction - does not seem so!\n",
    "df_master.hist(column=\"confidence_value\",by=\"is_breed\",bins=30)"
   ]
  },
  {
   "cell_type": "code",
   "execution_count": 29,
   "metadata": {},
   "outputs": [
    {
     "name": "stdout",
     "output_type": "stream",
     "text": [
      "breed 164520 - 73.66215344938749 \n",
      " not_breed 58824\n"
     ]
    }
   ],
   "source": [
    "#ratio of breeds compared to none\n",
    "breed = len(df_master[df_master.is_breed == True])\n",
    "not_breed = len(df_master[df_master.is_breed != True])\n",
    "percent = (breed/(breed+not_breed)*100)\n",
    "print('breed', breed ,'-', percent, '\\n', 'not_breed', not_breed )"
   ]
  },
  {
   "cell_type": "code",
   "execution_count": null,
   "metadata": {},
   "outputs": [],
   "source": [
    "End - wrangle.act"
   ]
  }
 ],
 "metadata": {
  "kernelspec": {
   "display_name": "Python 3",
   "language": "python",
   "name": "python3"
  },
  "language_info": {
   "codemirror_mode": {
    "name": "ipython",
    "version": 3
   },
   "file_extension": ".py",
   "mimetype": "text/x-python",
   "name": "python",
   "nbconvert_exporter": "python",
   "pygments_lexer": "ipython3",
   "version": "3.6.3"
  }
 },
 "nbformat": 4,
 "nbformat_minor": 2
}
